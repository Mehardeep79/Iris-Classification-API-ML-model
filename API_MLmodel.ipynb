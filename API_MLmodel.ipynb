{
 "cells": [
  {
   "cell_type": "markdown",
   "id": "5ef24ffd",
   "metadata": {},
   "source": [
    "# 🌸 Iris Classification API - ML Model Deployment\n",
    "\n",
    "## 📋 Project Overview\n",
    "\n",
    "This project demonstrates how to build, train, and deploy a machine learning model as a REST API using Flask. We'll create a Random Forest classifier to predict iris flower species based on their physical characteristics, then package it as a web service for real-world deployment.\n",
    "\n",
    "### 🎯 Key Features\n",
    "- **Machine Learning**: Random Forest classification on the classic Iris dataset\n",
    "- **Model Serialization**: Save and load trained models using joblib\n",
    "- **REST API**: Flask-based web service for model predictions\n",
    "- **Production Ready**: Complete deployment pipeline with testing instructions\n",
    "\n",
    "### 🛠️ Technology Stack\n",
    "- **Python 3.x**: Core programming language\n",
    "- **scikit-learn**: Machine learning library\n",
    "- **Flask**: Web framework for API development\n",
    "- **joblib**: Model serialization\n",
    "- **NumPy**: Numerical computations\n",
    "\n",
    "### 📁 Project Structure\n",
    "```\n",
    "API_MLmodel/\n",
    "├── API_MLmodel.ipynb    # Main notebook with complete workflow\n",
    "├── model.py            # Flask API server\n",
    "├── rf_model.pkl        # Serialized trained model\n",
    "└── README.md          # Project documentation\n",
    "```"
   ]
  },
  {
   "cell_type": "markdown",
   "id": "4cd797ec",
   "metadata": {},
   "source": [
    "## 📚 Import Required Libraries\n",
    "\n",
    "In this section, we import all the necessary Python libraries for our machine learning pipeline:\n",
    "\n"
   ]
  },
  {
   "cell_type": "code",
   "execution_count": null,
   "id": "fc984a4a",
   "metadata": {},
   "outputs": [],
   "source": [
    "from sklearn.ensemble import RandomForestClassifier\n",
    "from sklearn.datasets import load_iris\n",
    "from sklearn.model_selection import train_test_split\n",
    "import joblib"
   ]
  },
  {
   "cell_type": "markdown",
   "id": "1d2aa949",
   "metadata": {},
   "source": [
    "## 🌺 Dataset Loading and Preprocessing\n",
    "\n",
    "### About the Iris Dataset\n",
    "The Iris dataset is one of the most famous datasets in machine learning, introduced by statistician Ronald Fisher in 1936. It contains:\n",
    "\n",
    "- **150 samples** of iris flowers\n",
    "- **4 features** per sample:\n",
    "  - Sepal length (cm)\n",
    "  - Sepal width (cm)  \n",
    "  - Petal length (cm)\n",
    "  - Petal width (cm)\n",
    "- **3 target classes**:\n",
    "  - Iris Setosa\n",
    "  - Iris Versicolor\n",
    "  - Iris Virginica\n",
    "\n",
    "### Data Splitting Strategy\n",
    "We use a **70-30 split** for training and testing:\n",
    "- **Training set (70%)**: Used to train the Random Forest model\n",
    "- **Test set (30%)**: Used to evaluate model performance and ensure generalization\n",
    "\n",
    "This split ensures we have enough data for training while maintaining a sufficient test set for reliable performance evaluation."
   ]
  },
  {
   "cell_type": "code",
   "execution_count": null,
   "id": "1b1c4c38",
   "metadata": {},
   "outputs": [],
   "source": [
    "iris = load_iris()\n",
    "X_train, X_test, y_train, y_test = train_test_split(iris.data, iris.target, test_size = 0.3)"
   ]
  },
  {
   "cell_type": "markdown",
   "id": "a3716003",
   "metadata": {},
   "source": [
    "## 🤖 Model Training and Algorithm Selection\n",
    "\n",
    "\n",
    "### Training Process\n",
    "The model training involves:\n",
    "1. **Instantiation**: Create a RandomForestClassifier with default parameters\n",
    "2. **Fitting**: Train the model on our prepared training data (X_train, y_train)\n",
    "3. **Learning**: The algorithm builds multiple decision trees and learns patterns\n",
    "\n",
    "The default Random Forest configuration typically works well for small datasets like Iris, making it perfect for this demonstration."
   ]
  },
  {
   "cell_type": "code",
   "execution_count": null,
   "id": "df9afa62",
   "metadata": {},
   "outputs": [
    {
     "data": {
      "text/html": [
       "<style>#sk-container-id-1 {color: black;}#sk-container-id-1 pre{padding: 0;}#sk-container-id-1 div.sk-toggleable {background-color: white;}#sk-container-id-1 label.sk-toggleable__label {cursor: pointer;display: block;width: 100%;margin-bottom: 0;padding: 0.3em;box-sizing: border-box;text-align: center;}#sk-container-id-1 label.sk-toggleable__label-arrow:before {content: \"▸\";float: left;margin-right: 0.25em;color: #696969;}#sk-container-id-1 label.sk-toggleable__label-arrow:hover:before {color: black;}#sk-container-id-1 div.sk-estimator:hover label.sk-toggleable__label-arrow:before {color: black;}#sk-container-id-1 div.sk-toggleable__content {max-height: 0;max-width: 0;overflow: hidden;text-align: left;background-color: #f0f8ff;}#sk-container-id-1 div.sk-toggleable__content pre {margin: 0.2em;color: black;border-radius: 0.25em;background-color: #f0f8ff;}#sk-container-id-1 input.sk-toggleable__control:checked~div.sk-toggleable__content {max-height: 200px;max-width: 100%;overflow: auto;}#sk-container-id-1 input.sk-toggleable__control:checked~label.sk-toggleable__label-arrow:before {content: \"▾\";}#sk-container-id-1 div.sk-estimator input.sk-toggleable__control:checked~label.sk-toggleable__label {background-color: #d4ebff;}#sk-container-id-1 div.sk-label input.sk-toggleable__control:checked~label.sk-toggleable__label {background-color: #d4ebff;}#sk-container-id-1 input.sk-hidden--visually {border: 0;clip: rect(1px 1px 1px 1px);clip: rect(1px, 1px, 1px, 1px);height: 1px;margin: -1px;overflow: hidden;padding: 0;position: absolute;width: 1px;}#sk-container-id-1 div.sk-estimator {font-family: monospace;background-color: #f0f8ff;border: 1px dotted black;border-radius: 0.25em;box-sizing: border-box;margin-bottom: 0.5em;}#sk-container-id-1 div.sk-estimator:hover {background-color: #d4ebff;}#sk-container-id-1 div.sk-parallel-item::after {content: \"\";width: 100%;border-bottom: 1px solid gray;flex-grow: 1;}#sk-container-id-1 div.sk-label:hover label.sk-toggleable__label {background-color: #d4ebff;}#sk-container-id-1 div.sk-serial::before {content: \"\";position: absolute;border-left: 1px solid gray;box-sizing: border-box;top: 0;bottom: 0;left: 50%;z-index: 0;}#sk-container-id-1 div.sk-serial {display: flex;flex-direction: column;align-items: center;background-color: white;padding-right: 0.2em;padding-left: 0.2em;position: relative;}#sk-container-id-1 div.sk-item {position: relative;z-index: 1;}#sk-container-id-1 div.sk-parallel {display: flex;align-items: stretch;justify-content: center;background-color: white;position: relative;}#sk-container-id-1 div.sk-item::before, #sk-container-id-1 div.sk-parallel-item::before {content: \"\";position: absolute;border-left: 1px solid gray;box-sizing: border-box;top: 0;bottom: 0;left: 50%;z-index: -1;}#sk-container-id-1 div.sk-parallel-item {display: flex;flex-direction: column;z-index: 1;position: relative;background-color: white;}#sk-container-id-1 div.sk-parallel-item:first-child::after {align-self: flex-end;width: 50%;}#sk-container-id-1 div.sk-parallel-item:last-child::after {align-self: flex-start;width: 50%;}#sk-container-id-1 div.sk-parallel-item:only-child::after {width: 0;}#sk-container-id-1 div.sk-dashed-wrapped {border: 1px dashed gray;margin: 0 0.4em 0.5em 0.4em;box-sizing: border-box;padding-bottom: 0.4em;background-color: white;}#sk-container-id-1 div.sk-label label {font-family: monospace;font-weight: bold;display: inline-block;line-height: 1.2em;}#sk-container-id-1 div.sk-label-container {text-align: center;}#sk-container-id-1 div.sk-container {/* jupyter's `normalize.less` sets `[hidden] { display: none; }` but bootstrap.min.css set `[hidden] { display: none !important; }` so we also need the `!important` here to be able to override the default hidden behavior on the sphinx rendered scikit-learn.org. See: https://github.com/scikit-learn/scikit-learn/issues/21755 */display: inline-block !important;position: relative;}#sk-container-id-1 div.sk-text-repr-fallback {display: none;}</style><div id=\"sk-container-id-1\" class=\"sk-top-container\"><div class=\"sk-text-repr-fallback\"><pre>RandomForestClassifier()</pre><b>In a Jupyter environment, please rerun this cell to show the HTML representation or trust the notebook. <br />On GitHub, the HTML representation is unable to render, please try loading this page with nbviewer.org.</b></div><div class=\"sk-container\" hidden><div class=\"sk-item\"><div class=\"sk-estimator sk-toggleable\"><input class=\"sk-toggleable__control sk-hidden--visually\" id=\"sk-estimator-id-1\" type=\"checkbox\" checked><label for=\"sk-estimator-id-1\" class=\"sk-toggleable__label sk-toggleable__label-arrow\">RandomForestClassifier</label><div class=\"sk-toggleable__content\"><pre>RandomForestClassifier()</pre></div></div></div></div></div>"
      ],
      "text/plain": [
       "RandomForestClassifier()"
      ]
     },
     "execution_count": 4,
     "metadata": {},
     "output_type": "execute_result"
    }
   ],
   "source": [
    "model = RandomForestClassifier()\n",
    "model.fit(X_train, y_train)"
   ]
  },
  {
   "cell_type": "markdown",
   "id": "d3e3068a",
   "metadata": {},
   "source": [
    "## 💾 Saving the Model \n",
    "\n",
    "\n",
    "\n",
    "The saved model (`rf_model.pkl`) contains:\n",
    "- Trained Random Forest parameters\n",
    "- Tree structures and learned patterns\n",
    "- Feature scaling information (if applied)\n",
    "- Model metadata and configuration"
   ]
  },
  {
   "cell_type": "code",
   "execution_count": null,
   "id": "c7cd4207",
   "metadata": {},
   "outputs": [
    {
     "data": {
      "text/plain": [
       "['rf_model.pkl']"
      ]
     },
     "execution_count": 5,
     "metadata": {},
     "output_type": "execute_result"
    }
   ],
   "source": [
    "joblib.dump(model, 'rf_model.pkl')"
   ]
  },
  {
   "cell_type": "markdown",
   "id": "0422e525",
   "metadata": {},
   "source": [
    "## 🔧 Model Loading and Prediction Functions\n",
    "\n",
    "### Utility Functions for Model Operations\n",
    "These wrapper functions provide a clean interface for model operations:\n"
   ]
  },
  {
   "cell_type": "code",
   "execution_count": null,
   "id": "b82fd90d",
   "metadata": {},
   "outputs": [],
   "source": [
    "# Function to load the model:\n",
    "def load_model():\n",
    "    model = joblib.load('rf_model.pkl')\n",
    "    return model\n",
    "\n",
    "# Function to make predictions:\n",
    "def predict(input_data):\n",
    "    model = load_model()\n",
    "    prediction = model.predict(input_data)\n",
    "    return prediction"
   ]
  },
  {
   "cell_type": "markdown",
   "id": "e168659f",
   "metadata": {},
   "source": [
    "## 🌐 Flask API Development and Deployment\n",
    "\n",
    "### Production-Ready Model Serving\n",
    "Converting our trained model into a web service enables real-world applications and integration with other systems.\n",
    "\n",
    "### Flask API Architecture\n",
    "Our API (`model.py`) implements:\n",
    "- **RESTful Design**: Standard HTTP methods and status codes\n",
    "- **JSON Communication**: Industry-standard data exchange format\n",
    "- **Error Handling**: Robust response to invalid inputs\n",
    "- **Model Integration**: Seamless connection to our trained classifier\n",
    "\n",
    "### Key Components:\n",
    "1. **Flask Application**: Web server framework\n",
    "2. **POST Endpoint**: `/predict` route for classification requests\n",
    "3. **JSON Processing**: Automatic parsing of request data\n",
    "4. **Model Loading**: Efficient model deserialization\n",
    "5. **Response Formatting**: Structured JSON output\n"
   ]
  },
  {
   "cell_type": "markdown",
   "id": "7009ea4e",
   "metadata": {},
   "source": [
    "## 🚀 API Testing and Usage Guide\n",
    "\n",
    "### Step-by-Step Deployment Instructions\n",
    "\n",
    "#### 1. Prerequisites Installation\n",
    "```bash\n",
    "# Install required packages\n",
    "pip install flask joblib numpy scikit-learn\n",
    "\n",
    "# Navigate to project directory\n",
    "cd /path/to/API_MLmodel\n",
    "```\n",
    "\n",
    "#### 2. Start the Flask Server\n",
    "```bash\n",
    "# Run the API server\n",
    "python3 model.py\n",
    "```\n",
    "The server will start on `http://127.0.0.1:5000` with debug mode enabled.\n",
    "\n",
    "#### 3. Testing with Postman\n",
    "**Setup:**\n",
    "- Create a new **POST** request\n",
    "- URL: `http://127.0.0.1:5000/predict`\n",
    "- Headers: `Content-Type: application/json`\n",
    "- Body: Select **raw** and **JSON** format\n",
    "\n",
    "**Sample Request Body:**\n",
    "```json\n",
    "{\n",
    "    \"input\": [5.1, 3.5, 1.4, 0.2]\n",
    "}\n",
    "```\n",
    "\n",
    "**Visual Example:**\n",
    "![Postman API Testing](assets/postman.png)\n",
    "\n",
    "*The screenshot above demonstrates a successful API request and response in Postman, showing the complete workflow from request setup to receiving the prediction result.*\n",
    "\n",
    "#### 4. Expected Response Format\n",
    "```json\n",
    "{\n",
    "    \"prediction\": 0\n",
    "}\n",
    "```\n",
    "\n",
    "**Class Mapping:**\n",
    "- `0` → Iris Setosa\n",
    "- `1` → Iris Versicolor  \n",
    "- `2` → Iris Virginica\n",
    "\n",
    "#### 5. Alternative Testing Methods\n",
    "\n",
    "**Using curl:**\n",
    "```bash\n",
    "curl -X POST http://127.0.0.1:5000/predict \\\n",
    "  -H \"Content-Type: application/json\" \\\n",
    "  -d '{\"input\": [5.1, 3.5, 1.4, 0.2]}'\n",
    "```\n",
    "\n",
    "**Using Python requests:**\n",
    "```python\n",
    "import requests\n",
    "import json\n",
    "\n",
    "url = \"http://127.0.0.1:5000/predict\"\n",
    "data = {\"input\": [5.1, 3.5, 1.4, 0.2]}\n",
    "response = requests.post(url, json=data)\n",
    "print(response.json())\n",
    "```\n",
    "\n",
    "### 📝 Input Data Format\n",
    "The API expects an array of 4 numerical values representing:\n",
    "1. **Sepal Length** (cm): Typical range 4.3-7.9\n",
    "2. **Sepal Width** (cm): Typical range 2.0-4.4\n",
    "3. **Petal Length** (cm): Typical range 1.0-6.9\n",
    "4. **Petal Width** (cm): Typical range 0.1-2.5\n",
    "\n",
    "### 🔍 Example Test Cases\n",
    "```json\n",
    "// Iris Setosa (typically prediction: 0)\n",
    "{\"input\": [5.1, 3.5, 1.4, 0.2]}\n",
    "\n",
    "// Iris Versicolor (typically prediction: 1)  \n",
    "{\"input\": [6.2, 2.8, 4.8, 1.8]}\n",
    "\n",
    "// Iris Virginica (typically prediction: 2)\n",
    "{\"input\": [7.7, 3.8, 6.7, 2.2]}\n",
    "```\n"
   ]
  }
 ],
 "metadata": {
  "kernelspec": {
   "display_name": "myenv",
   "language": "python",
   "name": "python3"
  },
  "language_info": {
   "codemirror_mode": {
    "name": "ipython",
    "version": 3
   },
   "file_extension": ".py",
   "mimetype": "text/x-python",
   "name": "python",
   "nbconvert_exporter": "python",
   "pygments_lexer": "ipython3",
   "version": "3.11.9"
  }
 },
 "nbformat": 4,
 "nbformat_minor": 5
}
